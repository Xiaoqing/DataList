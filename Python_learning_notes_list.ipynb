{
  "nbformat": 4,
  "nbformat_minor": 0,
  "metadata": {
    "colab": {
      "name": "Python learning notes - list.ipynb",
      "provenance": [],
      "collapsed_sections": [],
      "include_colab_link": true
    },
    "kernelspec": {
      "name": "python3",
      "display_name": "Python 3"
    }
  },
  "cells": [
    {
      "cell_type": "markdown",
      "metadata": {
        "id": "view-in-github",
        "colab_type": "text"
      },
      "source": [
        "<a href=\"https://colab.research.google.com/github/Xiaoqing/DataList/blob/master/Python_learning_notes_list.ipynb\" target=\"_parent\"><img src=\"https://colab.research.google.com/assets/colab-badge.svg\" alt=\"Open In Colab\"/></a>"
      ]
    },
    {
      "cell_type": "markdown",
      "metadata": {
        "id": "LrVf5DLKOyks",
        "colab_type": "text"
      },
      "source": [
        "## What is a Python list\n",
        "1. list starts at 0\n",
        "2. list is merely an \"array\" of addresses (which also have a fixed size)\n",
        "3. list can contain mixed data types\n",
        "\n",
        "## Python list methods\n",
        "\n",
        "append() - Add an element to the end of the list  \n",
        "extend() - Add all elements of a list to the another list  \n",
        "insert() - Insert an item at the defined index  \n",
        "remove() - Removes an item from the list  \n",
        "pop() - Removes and returns an element at the given index  \n",
        "clear() - Removes all items from the list  \n",
        "index() - Returns the index of the first matched item  \n",
        "count() - Returns the count of number of items passed as an argument  \n",
        "sort() - Sort items in a list in ascending order  \n",
        "reverse() - Reverse the order of items in the list  \n",
        "copy() - Returns a shallow copy of the list  "
      ]
    },
    {
      "cell_type": "markdown",
      "metadata": {
        "id": "RkSPoSCpQBp7",
        "colab_type": "text"
      },
      "source": [
        "# Create a list"
      ]
    },
    {
      "cell_type": "code",
      "metadata": {
        "id": "8dGUOlQQQIU0",
        "colab_type": "code",
        "colab": {
          "base_uri": "https://localhost:8080/",
          "height": 34
        },
        "outputId": "69de73f4-b559-47ec-dee8-bce5af96cb0a"
      },
      "source": [
        "my_list = []\n",
        "my_list.append(1)\n",
        "my_list.append('a') # list can contain different types\n",
        "my_list.append(['b', 'c']) # list can contain nested list\n",
        "\n",
        "my_list = [1,2,3,4]\n",
        "\n",
        "my_list = range(10) # range(0, 10)\n",
        "my_list = list(range(10)) # [0, 1, 2, 3, 4, 5, 6, 7, 8, 9]\n",
        "my_list = [i for i in range(10)] # [0, 1, 2, 3, 4, 5, 6, 7, 8, 9]\n",
        "my_list = [*range(10)] # unpacking [0, 1, 2, 3, 4, 5, 6, 7, 8, 9]\n",
        "print(my_list)"
      ],
      "execution_count": 6,
      "outputs": [
        {
          "output_type": "stream",
          "text": [
            "[0, 1, 2, 3, 4, 5, 6, 7, 8, 9]\n"
          ],
          "name": "stdout"
        }
      ]
    },
    {
      "cell_type": "markdown",
      "metadata": {
        "id": "U3fHZ-mlQa9k",
        "colab_type": "text"
      },
      "source": [
        "# Query a list"
      ]
    },
    {
      "cell_type": "code",
      "metadata": {
        "id": "BJQsGhXEQeNV",
        "colab_type": "code",
        "colab": {
          "base_uri": "https://localhost:8080/",
          "height": 697
        },
        "outputId": "a35b5f5b-72ec-4480-95fc-3baf0f2f3603"
      },
      "source": [
        "my_list = [0, 1, 2, 3, 4, 5, 6, 7, 8, 9]\n",
        "\n",
        "# while loop\n",
        "i = 0\n",
        "while i < len(my_list):\n",
        "  print(my_list[i])\n",
        "  i+=1\n",
        "\n",
        "# for loop\n",
        "for i in my_list:\n",
        "  print(my_list[i])\n",
        "\n",
        "# for loop with index\n",
        "for index, element in enumerate(my_list):\n",
        "  print(\"Index {} - element {}\".format(index, element))\n",
        "\n",
        "# for loop from back\n",
        "for i in range(len(my_list) - 1, -1, -1):\n",
        "  print(my_list[i])"
      ],
      "execution_count": 19,
      "outputs": [
        {
          "output_type": "stream",
          "text": [
            "0\n",
            "1\n",
            "2\n",
            "3\n",
            "4\n",
            "5\n",
            "6\n",
            "7\n",
            "8\n",
            "9\n",
            "0\n",
            "1\n",
            "2\n",
            "3\n",
            "4\n",
            "5\n",
            "6\n",
            "7\n",
            "8\n",
            "9\n",
            "Index 0 - element 0\n",
            "Index 1 - element 1\n",
            "Index 2 - element 2\n",
            "Index 3 - element 3\n",
            "Index 4 - element 4\n",
            "Index 5 - element 5\n",
            "Index 6 - element 6\n",
            "Index 7 - element 7\n",
            "Index 8 - element 8\n",
            "Index 9 - element 9\n",
            "9\n",
            "8\n",
            "7\n",
            "6\n",
            "5\n",
            "4\n",
            "3\n",
            "2\n",
            "1\n",
            "0\n"
          ],
          "name": "stdout"
        }
      ]
    }
  ]
}