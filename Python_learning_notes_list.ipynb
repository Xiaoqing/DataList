{
  "nbformat": 4,
  "nbformat_minor": 0,
  "metadata": {
    "colab": {
      "name": "Python learning notes - list.ipynb",
      "provenance": [],
      "collapsed_sections": [],
      "include_colab_link": true
    },
    "kernelspec": {
      "name": "python3",
      "display_name": "Python 3"
    }
  },
  "cells": [
    {
      "cell_type": "markdown",
      "metadata": {
        "id": "view-in-github",
        "colab_type": "text"
      },
      "source": [
        "<a href=\"https://colab.research.google.com/github/Xiaoqing/DataList/blob/master/Python_learning_notes_list.ipynb\" target=\"_parent\"><img src=\"https://colab.research.google.com/assets/colab-badge.svg\" alt=\"Open In Colab\"/></a>"
      ]
    },
    {
      "cell_type": "markdown",
      "metadata": {
        "id": "LrVf5DLKOyks",
        "colab_type": "text"
      },
      "source": [
        "## What is a Python list\n",
        "1. list starts at 0\n",
        "2. list is merely an \"array\" of addresses (which also have a fixed size)\n",
        "3. list can contain mixed data types\n",
        "\n",
        "## Python list methods\n",
        "\n",
        "append() - Add an element to the end of the list  \n",
        "extend() - Add all elements of a list to the another list  \n",
        "insert() - Insert an item at the defined index  \n",
        "remove() - Removes an item from the list  \n",
        "pop() - Removes and returns an element at the given index  \n",
        "clear() - Removes all items from the list  \n",
        "index() - Returns the index of the first matched item  \n",
        "count() - Returns the count of number of items passed as an argument  \n",
        "sort() - Sort items in a list in ascending order  \n",
        "reverse() - Reverse the order of items in the list  \n",
        "copy() - Returns a shallow copy of the list  "
      ]
    },
    {
      "cell_type": "markdown",
      "metadata": {
        "id": "RkSPoSCpQBp7",
        "colab_type": "text"
      },
      "source": [
        "# Create a list"
      ]
    },
    {
      "cell_type": "code",
      "metadata": {
        "id": "8dGUOlQQQIU0",
        "colab_type": "code",
        "colab": {
          "base_uri": "https://localhost:8080/",
          "height": 34
        },
        "outputId": "69de73f4-b559-47ec-dee8-bce5af96cb0a"
      },
      "source": [
        "my_list = []\n",
        "my_list.append(1)\n",
        "my_list.append('a') # list can contain different types\n",
        "my_list.append(['b', 'c']) # list can contain nested list\n",
        "\n",
        "my_list = [1,2,3,4]\n",
        "\n",
        "my_list = range(10) # range(0, 10)\n",
        "my_list = list(range(10)) # [0, 1, 2, 3, 4, 5, 6, 7, 8, 9]\n",
        "my_list = [i for i in range(10)] # [0, 1, 2, 3, 4, 5, 6, 7, 8, 9]\n",
        "my_list = [*range(10)] # unpacking [0, 1, 2, 3, 4, 5, 6, 7, 8, 9]\n",
        "print(my_list)"
      ],
      "execution_count": 6,
      "outputs": [
        {
          "output_type": "stream",
          "text": [
            "[0, 1, 2, 3, 4, 5, 6, 7, 8, 9]\n"
          ],
          "name": "stdout"
        }
      ]
    },
    {
      "cell_type": "markdown",
      "metadata": {
        "id": "U3fHZ-mlQa9k",
        "colab_type": "text"
      },
      "source": [
        "# Query a list"
      ]
    },
    {
      "cell_type": "code",
      "metadata": {
        "id": "BJQsGhXEQeNV",
        "colab_type": "code",
        "colab": {
          "base_uri": "https://localhost:8080/",
          "height": 867
        },
        "outputId": "ff27c45b-7d7d-4d48-fd5b-c5beb1f06c20"
      },
      "source": [
        "my_list = [0, 1, 2, 3, 4, 5, 6, 7, 8, 9]\n",
        "\n",
        "# while loop\n",
        "i = 0\n",
        "while i < len(my_list):\n",
        "  print(my_list[i])\n",
        "  i+=1\n",
        "\n",
        "# for loop\n",
        "for i in my_list:\n",
        "  print(my_list[i])\n",
        "\n",
        "# for loop with index\n",
        "for index, element in enumerate(my_list):\n",
        "  print(\"index {} - element {}\".format(index, element))\n",
        "\n",
        "# for loop from back\n",
        "for i in range(len(my_list) - 1, -1, -1):\n",
        "  print(my_list[i])\n",
        "\n",
        "# loop multiple lists\n",
        "my_colors = [\"red\",\"blue\",\"green\",\"purple\",\"grey\",\"yellow\",\"white\",\"black\",\"silver\",\"navy\"]\n",
        "for i, color in zip(my_list, my_colors):\n",
        "  print(\"index {} - color {}\".format(i, color))"
      ],
      "execution_count": 20,
      "outputs": [
        {
          "output_type": "stream",
          "text": [
            "0\n",
            "1\n",
            "2\n",
            "3\n",
            "4\n",
            "5\n",
            "6\n",
            "7\n",
            "8\n",
            "9\n",
            "0\n",
            "1\n",
            "2\n",
            "3\n",
            "4\n",
            "5\n",
            "6\n",
            "7\n",
            "8\n",
            "9\n",
            "index 0 - element 0\n",
            "index 1 - element 1\n",
            "index 2 - element 2\n",
            "index 3 - element 3\n",
            "index 4 - element 4\n",
            "index 5 - element 5\n",
            "index 6 - element 6\n",
            "index 7 - element 7\n",
            "index 8 - element 8\n",
            "index 9 - element 9\n",
            "9\n",
            "8\n",
            "7\n",
            "6\n",
            "5\n",
            "4\n",
            "3\n",
            "2\n",
            "1\n",
            "0\n",
            "index 0 - color red\n",
            "index 1 - color blue\n",
            "index 2 - color green\n",
            "index 3 - color purple\n",
            "index 4 - color grey\n",
            "index 5 - color yellow\n",
            "index 6 - color white\n",
            "index 7 - color black\n",
            "index 8 - color silver\n",
            "index 9 - color navy\n"
          ],
          "name": "stdout"
        }
      ]
    }
  ]
}